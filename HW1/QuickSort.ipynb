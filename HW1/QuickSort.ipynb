{
 "cells": [
  {
   "cell_type": "code",
   "execution_count": 18,
   "metadata": {
    "scrolled": true
   },
   "outputs": [],
   "source": [
    "def QSort(array):\n",
    "    Smaller=[]\n",
    "    Equal=[]\n",
    "    Bigger=[]\n",
    "    \n",
    "    # 建3個list用來裝大於、等於、小於基準值的值\n",
    "  \n",
    "    if len(array)<1:\n",
    "        return array\n",
    "    \n",
    "    # 回歸停止條件(直到array剩下一個值)\n",
    "    \n",
    "    else:\n",
    "        pivot=array[0] \n",
    "        \n",
    "    # 以array第一個值為基準點\n",
    "        \n",
    "        for i in array:\n",
    "            if i<pivot:\n",
    "                Smaller.append(i)\n",
    "            elif i==pivot:\n",
    "                Equal.append(i)\n",
    "            else:\n",
    "                Bigger.append(i)\n",
    "        \n",
    "    # 依基準值判斷append到不同list\n",
    "    \n",
    "    S=QSort(Smaller)\n",
    "    B=QSort(Bigger)\n",
    "    E=Equal\n",
    "        \n",
    "    return S+E+B\n",
    "\n",
    "    # 把整理好的值丟回去,直到達成停止條件,最後合併"
   ]
  },
  {
   "cell_type": "code",
   "execution_count": 19,
   "metadata": {},
   "outputs": [],
   "source": [
    "array=[2,9,8,7,6,4,5,1,3]"
   ]
  },
  {
   "cell_type": "code",
   "execution_count": 20,
   "metadata": {},
   "outputs": [
    {
     "data": {
      "text/plain": [
       "[1, 2, 3, 4, 5, 6, 7, 8, 9]"
      ]
     },
     "execution_count": 20,
     "metadata": {},
     "output_type": "execute_result"
    }
   ],
   "source": [
    "QSort(array)"
   ]
  },
  {
   "cell_type": "code",
   "execution_count": null,
   "metadata": {},
   "outputs": [],
   "source": []
  }
 ],
 "metadata": {
  "kernelspec": {
   "display_name": "Python 3",
   "language": "python",
   "name": "python3"
  },
  "language_info": {
   "codemirror_mode": {
    "name": "ipython",
    "version": 3
   },
   "file_extension": ".py",
   "mimetype": "text/x-python",
   "name": "python",
   "nbconvert_exporter": "python",
   "pygments_lexer": "ipython3",
   "version": "3.7.1"
  }
 },
 "nbformat": 4,
 "nbformat_minor": 2
}
