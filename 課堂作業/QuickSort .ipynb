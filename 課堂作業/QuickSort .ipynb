{
 "cells": [
  {
   "cell_type": "code",
   "execution_count": 78,
   "metadata": {
    "scrolled": true
   },
   "outputs": [],
   "source": [
    "def QSort(array):\n",
    "    S=[]\n",
    "    E=[]\n",
    "    B=[]\n",
    "    \n",
    "    # 建3個list用來裝大於、等於、小於基準值的值\n",
    "  \n",
    "    if len(array)<1:\n",
    "        return array\n",
    "    \n",
    "    # 回歸停止條件(直到array剩下一個值)\n",
    "    \n",
    "    else:\n",
    "        piviot=array[0] \n",
    "        \n",
    "    # 以array第一個值為基準點\n",
    "        \n",
    "        for i in array:\n",
    "            if i<piviot:\n",
    "                S.append(i)\n",
    "            elif i==piviot:\n",
    "                E.append(i)\n",
    "            else:\n",
    "                B.append(i)\n",
    "        \n",
    "    # 依基準值判斷append到不同list\n",
    "        \n",
    "        Smaller=QSort(S)\n",
    "        Bigger=QSort(B)    \n",
    "    return Smaller + E + Bigger\n",
    "\n",
    "    # 把整理好的值丟回去,直到達成停止條件,最後合併"
   ]
  },
  {
   "cell_type": "code",
   "execution_count": 79,
   "metadata": {},
   "outputs": [],
   "source": [
    "array=[2,9,8,7,6,4]"
   ]
  },
  {
   "cell_type": "code",
   "execution_count": 80,
   "metadata": {},
   "outputs": [
    {
     "data": {
      "text/plain": [
       "[2, 4, 6, 7, 8, 9]"
      ]
     },
     "execution_count": 80,
     "metadata": {},
     "output_type": "execute_result"
    }
   ],
   "source": [
    "QSort(array)"
   ]
  }
 ],
 "metadata": {
  "kernelspec": {
   "display_name": "Python 3",
   "language": "python",
   "name": "python3"
  },
  "language_info": {
   "codemirror_mode": {
    "name": "ipython",
    "version": 3
   },
   "file_extension": ".py",
   "mimetype": "text/x-python",
   "name": "python",
   "nbconvert_exporter": "python",
   "pygments_lexer": "ipython3",
   "version": "3.7.1"
  }
 },
 "nbformat": 4,
 "nbformat_minor": 2
}
