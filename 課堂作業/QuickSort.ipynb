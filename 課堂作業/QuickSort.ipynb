# 想法




{
 "cells": [
  {
   "cell_type": "code",
   "execution_count": 78,
   "metadata": {
    "scrolled": true
   },
   "outputs": [],
   "source": [
    "def QSort(array):\n",
    "    S=[]\n",
    "    E=[]\n",
    "    B=[]\n",
    "    \n",
    "    if len(array)<1:\n",
    "        return array\n",
    "    \n",
    "    else:\n",
    "        piviot=array[0]\n",
    "        for i in array:\n",
    "            if i<piviot:\n",
    "                S.append(i)\n",
    "            elif i==piviot:\n",
    "                E.append(i)\n",
    "            else:\n",
    "                B.append(i)\n",
    "            \n",
    "        Smaller=QSort(S)\n",
    "        Bigger=QSort(B)    \n",
    "    return Smaller + E + Bigger    "
   ]
  },
  {
   "cell_type": "code",
   "execution_count": 79,
   "metadata": {},
   "outputs": [],
   "source": [
    "array=[2,9,8,7,6,4]"
   ]
  },
  {
   "cell_type": "code",
   "execution_count": 80,
   "metadata": {},
   "outputs": [
    {
     "data": {
      "text/plain": [
       "[2, 4, 6, 7, 8, 9]"
      ]
     },
     "execution_count": 80,
     "metadata": {},
     "output_type": "execute_result"
    }
   ],
   "source": [
    "QSort(array)"
   ]
  },
  {
   "cell_type": "code",
   "execution_count": null,
   "metadata": {},
   "outputs": [],
   "source": []
  }
 ],
 "metadata": {
  "kernelspec": {
   "display_name": "Python 3",
   "language": "python",
   "name": "python3"
  },
  "language_info": {
   "codemirror_mode": {
    "name": "ipython",
    "version": 3
   },
   "file_extension": ".py",
   "mimetype": "text/x-python",
   "name": "python",
   "nbconvert_exporter": "python",
   "pygments_lexer": "ipython3",
   "version": "3.7.1"
  }
 },
 "nbformat": 4,
 "nbformat_minor": 2
}
